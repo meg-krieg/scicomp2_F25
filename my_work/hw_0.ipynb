{
 "cells": [
  {
   "cell_type": "code",
   "execution_count": null,
   "id": "0827e18f",
   "metadata": {
    "vscode": {
     "languageId": "plaintext"
    }
   },
   "outputs": [],
   "source": [
    "# magic command to make the figure pop up below instead of in a new window\n",
    "%matplotlib inline\n",
    "%config InlineBackend.figure_format='retina' # very useful command for high-res images\n",
    "\n",
    "# invoke pyplot in matplotlib, give it an alias\n",
    "import matplotlib.pyplot as plt  \n",
    "import numpy as np\n",
    "\n",
    "x = np.linspace(0, 3*np.pi, 300)\n",
    "\n",
    "y = np.sin(x)\n",
    "y2 = np.sin(x**2)\n",
    "\n",
    "plt.plot(x, y, label=r'$\\sin(x)$')\n",
    "plt.plot(x, y2, label=r'$\\sin(x^2)$')\n",
    "plt.title('Some functions')\n",
    "plt.xlabel('x')\n",
    "plt.ylabel('y')\n",
    "\n",
    "plt.grid(which='major')\n",
    "plt.legend(loc='lower left');\n",
    "\n",
    "## optional extras\n",
    "plt.minorticks_on()\n",
    "plt.tick_params(which='both', direction='in', tick2On=True)"
   ]
  },
  {
   "cell_type": "code",
   "execution_count": null,
   "id": "88252edf",
   "metadata": {
    "vscode": {
     "languageId": "plaintext"
    }
   },
   "outputs": [],
   "source": []
  }
 ],
 "metadata": {
  "language_info": {
   "name": "python"
  }
 },
 "nbformat": 4,
 "nbformat_minor": 5
}
